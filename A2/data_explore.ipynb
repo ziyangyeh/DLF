{
 "cells": [
  {
   "cell_type": "code",
   "execution_count": 1,
   "metadata": {},
   "outputs": [],
   "source": [
    "from pathlib import Path\n",
    "\n",
    "import matplotlib.pyplot as plt\n",
    "import numpy as np\n",
    "import pandas as pd\n",
    "import seaborn as sns"
   ]
  },
  {
   "cell_type": "code",
   "execution_count": 2,
   "metadata": {},
   "outputs": [],
   "source": [
    "SEED = 42\n",
    "DATA_DIR = Path(\"data\")\n",
    "DATASET_DIR = DATA_DIR / Path(\"Birds_25\")\n",
    "TRAIN_DIR = DATASET_DIR / Path(\"train\")\n",
    "VALID_DIR = DATASET_DIR / Path(\"valid\")\n",
    "LABELS_TXT = DATA_DIR / Path(\"bird.txt\")"
   ]
  },
  {
   "cell_type": "code",
   "execution_count": 3,
   "metadata": {},
   "outputs": [
    {
     "name": "stdout",
     "output_type": "stream",
     "text": [
      "train_val ratio: 0.2\n"
     ]
    },
    {
     "data": {
      "text/html": [
       "<div>\n",
       "<style scoped>\n",
       "    .dataframe tbody tr th:only-of-type {\n",
       "        vertical-align: middle;\n",
       "    }\n",
       "\n",
       "    .dataframe tbody tr th {\n",
       "        vertical-align: top;\n",
       "    }\n",
       "\n",
       "    .dataframe thead th {\n",
       "        text-align: right;\n",
       "    }\n",
       "</style>\n",
       "<table border=\"1\" class=\"dataframe\">\n",
       "  <thead>\n",
       "    <tr style=\"text-align: right;\">\n",
       "      <th></th>\n",
       "      <th>image</th>\n",
       "      <th>label</th>\n",
       "      <th>is_valid</th>\n",
       "    </tr>\n",
       "  </thead>\n",
       "  <tbody>\n",
       "    <tr>\n",
       "      <th>0</th>\n",
       "      <td>data/Birds_25/train/Hoopoe/Hoopoe_859.jpg</td>\n",
       "      <td>Hoopoe</td>\n",
       "      <td>False</td>\n",
       "    </tr>\n",
       "    <tr>\n",
       "      <th>1</th>\n",
       "      <td>data/Birds_25/train/Hoopoe/Hoopoe_1326.jpg</td>\n",
       "      <td>Hoopoe</td>\n",
       "      <td>False</td>\n",
       "    </tr>\n",
       "    <tr>\n",
       "      <th>2</th>\n",
       "      <td>data/Birds_25/train/Hoopoe/Hoopoe_1481.jpg</td>\n",
       "      <td>Hoopoe</td>\n",
       "      <td>False</td>\n",
       "    </tr>\n",
       "    <tr>\n",
       "      <th>3</th>\n",
       "      <td>data/Birds_25/train/Hoopoe/Hoopoe_1031.jpg</td>\n",
       "      <td>Hoopoe</td>\n",
       "      <td>False</td>\n",
       "    </tr>\n",
       "    <tr>\n",
       "      <th>4</th>\n",
       "      <td>data/Birds_25/train/Hoopoe/Hoopoe_888.jpg</td>\n",
       "      <td>Hoopoe</td>\n",
       "      <td>False</td>\n",
       "    </tr>\n",
       "  </tbody>\n",
       "</table>\n",
       "</div>"
      ],
      "text/plain": [
       "                                        image   label  is_valid\n",
       "0   data/Birds_25/train/Hoopoe/Hoopoe_859.jpg  Hoopoe     False\n",
       "1  data/Birds_25/train/Hoopoe/Hoopoe_1326.jpg  Hoopoe     False\n",
       "2  data/Birds_25/train/Hoopoe/Hoopoe_1481.jpg  Hoopoe     False\n",
       "3  data/Birds_25/train/Hoopoe/Hoopoe_1031.jpg  Hoopoe     False\n",
       "4   data/Birds_25/train/Hoopoe/Hoopoe_888.jpg  Hoopoe     False"
      ]
     },
     "execution_count": 3,
     "metadata": {},
     "output_type": "execute_result"
    }
   ],
   "source": [
    "train_glob = TRAIN_DIR.glob(\"*/*\")\n",
    "train_files = []\n",
    "train_labels = []\n",
    "for _item in train_glob:\n",
    "    train_files.append(_item)\n",
    "    train_labels.append(_item.parent.name)\n",
    "\n",
    "train_df = pd.DataFrame.from_dict({\"image\": train_files, \"label\": train_labels})\n",
    "train_df[\"is_valid\"] = False\n",
    "\n",
    "valid_glob = VALID_DIR.glob(\"*/*\")\n",
    "valid_files = []\n",
    "valid_labels = []\n",
    "for _item in valid_glob:\n",
    "    valid_files.append(_item)\n",
    "    valid_labels.append(_item.parent.name)\n",
    "\n",
    "valid_df = pd.DataFrame.from_dict({\"image\": valid_files, \"label\": valid_labels})\n",
    "valid_df[\"is_valid\"] = True\n",
    "\n",
    "dataset_df = pd.concat([train_df, valid_df])\n",
    "print(f\"train_val ratio: {len(valid_df)/(len(train_df)+len(valid_df))}\")\n",
    "dataset_df.head()"
   ]
  },
  {
   "cell_type": "code",
   "execution_count": 4,
   "metadata": {},
   "outputs": [
    {
     "data": {
      "image/png": "[encoded data removed]",
      "text/plain": [
       "<Figure size 640x480 with 1 Axes>"
      ]
     },
     "metadata": {},
     "output_type": "display_data"
    }
   ],
   "source": [
    "sns.set_style(\"white\")\n",
    "hist = sns.histplot(dataset_df[\"label\"])\n",
    "hist.set(xticklabels=[])\n",
    "plt.show()"
   ]
  },
  {
   "cell_type": "code",
   "execution_count": 5,
   "metadata": {},
   "outputs": [],
   "source": [
    "dataset_df.to_csv(DATA_DIR / Path(\"bird.csv\"), index=False)"
   ]
  },
  {
   "cell_type": "code",
   "execution_count": 6,
   "metadata": {},
   "outputs": [],
   "source": [
    "df_labels = np.sort(dataset_df[\"label\"].unique()).tolist()\n",
    "with open(DATA_DIR / Path(\"bird.txt\"), \"w\") as f:\n",
    "    for label in df_labels:\n",
    "        f.write(label + \"\\n\")\n",
    "f.close()"
   ]
  },
  {
   "cell_type": "code",
   "execution_count": null,
   "metadata": {},
   "outputs": [],
   "source": []
  }
 ],
 "metadata": {
  "kernelspec": {
   "display_name": "torch",
   "language": "python",
   "name": "python3"
  },
  "language_info": {
   "codemirror_mode": {
    "name": "ipython",
    "version": 3
   },
   "file_extension": ".py",
   "mimetype": "text/x-python",
   "name": "python",
   "nbconvert_exporter": "python",
   "pygments_lexer": "ipython3",
   "version": "3.10.13"
  }
 },
 "nbformat": 4,
 "nbformat_minor": 2
}
