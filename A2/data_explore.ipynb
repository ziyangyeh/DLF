{
 "cells": [
  {
   "cell_type": "code",
   "execution_count": null,
   "metadata": {},
   "outputs": [],
   "source": [
    "from pathlib import Path\n",
    "\n",
    "import matplotlib.pyplot as plt\n",
    "import numpy as np\n",
    "import pandas as pd\n",
    "import seaborn as sns\n",
    "from sklearn.model_selection import train_test_split"
   ]
  },
  {
   "cell_type": "code",
   "execution_count": null,
   "metadata": {},
   "outputs": [],
   "source": [
    "SEED = 42\n",
    "DATA_DIR = Path(\"data\")\n",
    "DATASET_ROOT = DATA_DIR / Path(\"mushrooms\")\n",
    "LABELS_TXT = DATASET_ROOT / Path(\"mushrooms.txt\")\n",
    "MUSHROOMS_DIR = DATASET_ROOT / Path(\"data/data\")"
   ]
  },
  {
   "cell_type": "code",
   "execution_count": null,
   "metadata": {},
   "outputs": [],
   "source": [
    "files = MUSHROOMS_DIR.glob(\"*/*\")\n",
    "\n",
    "image_lst = []\n",
    "label_lst = []\n",
    "for _file in files:\n",
    "    image_lst.append(_file)\n",
    "    label_lst.append(_file.parent.name)\n",
    "    \n",
    "dataset_df = pd.DataFrame.from_dict({\"image\":image_lst, \"label\":label_lst})\n",
    "dataset_df.head()"
   ]
  },
  {
   "cell_type": "code",
   "execution_count": null,
   "metadata": {},
   "outputs": [],
   "source": [
    "sns.set_style(\"white\")\n",
    "hist= sns.histplot(dataset_df[\"label\"])\n",
    "hist.set(xticklabels=[]) \n",
    "plt.show()"
   ]
  },
  {
   "cell_type": "code",
   "execution_count": null,
   "metadata": {},
   "outputs": [],
   "source": [
    "# Stratify is None, because dataset is balanced.\n",
    "train_df, val_df = train_test_split(dataset_df,random_state=SEED,shuffle=False)\n",
    "train_df.reset_index(inplace=True,drop=\"index\")\n",
    "val_df.reset_index(inplace=True,drop=\"index\")\n",
    "train_df[\"is_valid\"] = False\n",
    "val_df[\"is_valid\"] = True\n",
    "dataset_df = pd.concat([train_df,val_df])\n",
    "dataset_df.head()"
   ]
  },
  {
   "cell_type": "code",
   "execution_count": null,
   "metadata": {},
   "outputs": [],
   "source": [
    "dataset_df.to_csv(DATA_DIR / Path(\"mushrooms.csv\"), index=False)"
   ]
  },
  {
   "cell_type": "code",
   "execution_count": null,
   "metadata": {},
   "outputs": [],
   "source": [
    "df_labels = np.sort(dataset_df[\"label\"].unique())\n",
    "labels = np.sort(np.loadtxt(LABELS_TXT,dtype=str))\n",
    "print((df_labels==labels).all())"
   ]
  }
 ],
 "metadata": {
  "kernelspec": {
   "display_name": "torch",
   "language": "python",
   "name": "python3"
  },
  "language_info": {
   "codemirror_mode": {
    "name": "ipython",
    "version": 3
   },
   "file_extension": ".py",
   "mimetype": "text/x-python",
   "name": "python",
   "nbconvert_exporter": "python",
   "pygments_lexer": "ipython3",
   "version": "3.10.13"
  }
 },
 "nbformat": 4,
 "nbformat_minor": 2
}
