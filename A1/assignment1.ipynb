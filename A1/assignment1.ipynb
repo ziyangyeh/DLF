{
 "cells": [
  {
   "cell_type": "code",
   "execution_count": 16,
   "metadata": {},
   "outputs": [],
   "source": [
    "import os\n",
    "import pandas as pd\n",
    "import numpy as np\n",
    "from pathlib import Path\n",
    "from tqdm.notebook import tqdm\n",
    "from sklearn.metrics import accuracy_score\n",
    "\n",
    "\n",
    "CUR_DIR = Path(os.getcwd())\n",
    "CSV_PATH = CUR_DIR / Path(\"data/scaled.csv\")"
   ]
  },
  {
   "cell_type": "code",
   "execution_count": 17,
   "metadata": {},
   "outputs": [],
   "source": [
    "class CustomPerceptron():\n",
    "    def __init__(self, lr=0.001, epoch=1000, feature_num=None):\n",
    "        self.w = np.ones(feature_num) if feature_num else None\n",
    "        self.b = 0\n",
    "        self.best_w = None\n",
    "        self.best_b = None\n",
    "        self.l_rate = lr\n",
    "        self.epoch = epoch\n",
    "\n",
    "    def sign(self,y):\n",
    "        return -1 if y < 0 else 1\n",
    "    \n",
    "    def fit(self,x_train,y_train):\n",
    "        if not self.w:\n",
    "            self.w = np.zeros(x_train.shape[1])\n",
    "        self.best_acc = -1\n",
    "        for _ in tqdm(range(self.epoch),total=self.epoch):\n",
    "            err=0\n",
    "            for i in range(len(x_train)):\n",
    "                xi = x_train[i,:]\n",
    "                yi = y_train[i]\n",
    "                yi_hat = self._predict(xi)\n",
    "                if yi * yi_hat != 1:\n",
    "                    err+=1\n",
    "                    self.w += self.l_rate * yi * xi\n",
    "                    self.b += self.l_rate * yi\n",
    "            if err == 0:\n",
    "                break\n",
    "            y_pred = self.predict(x_train)\n",
    "            cur_acc = accuracy_score(y_train,y_pred)\n",
    "            if self.best_acc < cur_acc:\n",
    "                self.best_w = self.w\n",
    "                self.best_b = self.b\n",
    "                self.best_acc = cur_acc\n",
    "            \n",
    "\n",
    "    def _calculate(self, x):\n",
    "        return np.dot(x, self.w)+self.b\n",
    "    \n",
    "    def _predict(self,x):\n",
    "        return -1 if self._calculate(x)<0 else 1\n",
    "    \n",
    "    def predict(self,x):\n",
    "        y_hat = x@self.w.T + self.b\n",
    "        y_hat = np.where(y_hat<0,-1,1)\n",
    "        return y_hat\n",
    "    \n",
    "    def predict_use_best(self,x):\n",
    "        y_hat = x@self.best_w.T + self.best_b\n",
    "        y_hat = np.where(y_hat<0,-1,1)\n",
    "        return y_hat\n",
    "    \n",
    "    def get_best_params(self):\n",
    "        return {\"w\": self.best_w, \"b\": self.best_b}\n",
    "    \n",
    "    def get_params(self):\n",
    "        return {\"w\": self.w, \"b\": self.b}"
   ]
  },
  {
   "cell_type": "code",
   "execution_count": 18,
   "metadata": {},
   "outputs": [],
   "source": [
    "np.random.seed(42)\n",
    "dataset = pd.read_csv(CSV_PATH)\n",
    "x = dataset[dataset.columns.values[:-1]].values\n",
    "y = dataset[dataset.columns.values[-1]].values"
   ]
  },
  {
   "cell_type": "code",
   "execution_count": 19,
   "metadata": {},
   "outputs": [
    {
     "data": {
      "application/vnd.jupyter.widget-view+json": {
       "model_id": "c55a553ba20d4a62a44178f3bee19a12",
       "version_major": 2,
       "version_minor": 0
      },
      "text/plain": [
       "  0%|          | 0/1000 [00:00<?, ?it/s]"
      ]
     },
     "metadata": {},
     "output_type": "display_data"
    }
   ],
   "source": [
    "model = CustomPerceptron(epoch=1000)\n",
    "model.fit(x,y)"
   ]
  },
  {
   "cell_type": "code",
   "execution_count": 20,
   "metadata": {},
   "outputs": [
    {
     "name": "stdout",
     "output_type": "stream",
     "text": [
      "{'w': array([ 0.001375  ,  0.00536774, -0.00195918, -0.00045652, -0.0010649 ,\n",
      "        0.00357464,  0.00129889,  0.00106667]), 'b': 0.002}\n",
      "best acc: 0.77734375\n",
      "final acc: 0.765625\n"
     ]
    }
   ],
   "source": [
    "print(model.get_params())\n",
    "y_pred = model.predict(x)\n",
    "print(f\"best acc: {model.best_acc}\")\n",
    "print(f\"final acc: {accuracy_score(y,y_pred)}\")"
   ]
  },
  {
   "cell_type": "code",
   "execution_count": 21,
   "metadata": {},
   "outputs": [
    {
     "name": "stderr",
     "output_type": "stream",
     "text": [
      "/usr/local/Caskroom/miniconda/base/envs/py310/lib/python3.10/site-packages/sklearn/svm/_classes.py:32: FutureWarning: The default value of `dual` will change from `True` to `'auto'` in 1.5. Set the value of `dual` explicitly to suppress the warning.\n",
      "  warnings.warn(\n",
      "/usr/local/Caskroom/miniconda/base/envs/py310/lib/python3.10/site-packages/sklearn/svm/_classes.py:32: FutureWarning: The default value of `dual` will change from `True` to `'auto'` in 1.5. Set the value of `dual` explicitly to suppress the warning.\n",
      "  warnings.warn(\n",
      "/usr/local/Caskroom/miniconda/base/envs/py310/lib/python3.10/site-packages/sklearn/svm/_classes.py:32: FutureWarning: The default value of `dual` will change from `True` to `'auto'` in 1.5. Set the value of `dual` explicitly to suppress the warning.\n",
      "  warnings.warn(\n",
      "/usr/local/Caskroom/miniconda/base/envs/py310/lib/python3.10/site-packages/sklearn/svm/_classes.py:32: FutureWarning: The default value of `dual` will change from `True` to `'auto'` in 1.5. Set the value of `dual` explicitly to suppress the warning.\n",
      "  warnings.warn(\n",
      "/usr/local/Caskroom/miniconda/base/envs/py310/lib/python3.10/site-packages/sklearn/svm/_classes.py:32: FutureWarning: The default value of `dual` will change from `True` to `'auto'` in 1.5. Set the value of `dual` explicitly to suppress the warning.\n",
      "  warnings.warn(\n",
      "/usr/local/Caskroom/miniconda/base/envs/py310/lib/python3.10/site-packages/sklearn/svm/_classes.py:32: FutureWarning: The default value of `dual` will change from `True` to `'auto'` in 1.5. Set the value of `dual` explicitly to suppress the warning.\n",
      "  warnings.warn(\n",
      "/usr/local/Caskroom/miniconda/base/envs/py310/lib/python3.10/site-packages/sklearn/svm/_classes.py:32: FutureWarning: The default value of `dual` will change from `True` to `'auto'` in 1.5. Set the value of `dual` explicitly to suppress the warning.\n",
      "  warnings.warn(\n",
      "/usr/local/Caskroom/miniconda/base/envs/py310/lib/python3.10/site-packages/sklearn/svm/_classes.py:32: FutureWarning: The default value of `dual` will change from `True` to `'auto'` in 1.5. Set the value of `dual` explicitly to suppress the warning.\n",
      "  warnings.warn(\n",
      "/usr/local/Caskroom/miniconda/base/envs/py310/lib/python3.10/site-packages/sklearn/svm/_classes.py:32: FutureWarning: The default value of `dual` will change from `True` to `'auto'` in 1.5. Set the value of `dual` explicitly to suppress the warning.\n",
      "  warnings.warn(\n",
      "/usr/local/Caskroom/miniconda/base/envs/py310/lib/python3.10/site-packages/sklearn/svm/_classes.py:32: FutureWarning: The default value of `dual` will change from `True` to `'auto'` in 1.5. Set the value of `dual` explicitly to suppress the warning.\n",
      "  warnings.warn(\n",
      "/usr/local/Caskroom/miniconda/base/envs/py310/lib/python3.10/site-packages/sklearn/svm/_classes.py:32: FutureWarning: The default value of `dual` will change from `True` to `'auto'` in 1.5. Set the value of `dual` explicitly to suppress the warning.\n",
      "  warnings.warn(\n",
      "/usr/local/Caskroom/miniconda/base/envs/py310/lib/python3.10/site-packages/sklearn/svm/_classes.py:32: FutureWarning: The default value of `dual` will change from `True` to `'auto'` in 1.5. Set the value of `dual` explicitly to suppress the warning.\n",
      "  warnings.warn(\n",
      "/usr/local/Caskroom/miniconda/base/envs/py310/lib/python3.10/site-packages/sklearn/svm/_classes.py:32: FutureWarning: The default value of `dual` will change from `True` to `'auto'` in 1.5. Set the value of `dual` explicitly to suppress the warning.\n",
      "  warnings.warn(\n",
      "/usr/local/Caskroom/miniconda/base/envs/py310/lib/python3.10/site-packages/sklearn/svm/_classes.py:32: FutureWarning: The default value of `dual` will change from `True` to `'auto'` in 1.5. Set the value of `dual` explicitly to suppress the warning.\n",
      "  warnings.warn(\n",
      "/usr/local/Caskroom/miniconda/base/envs/py310/lib/python3.10/site-packages/sklearn/svm/_classes.py:32: FutureWarning: The default value of `dual` will change from `True` to `'auto'` in 1.5. Set the value of `dual` explicitly to suppress the warning.\n",
      "  warnings.warn(\n",
      "/usr/local/Caskroom/miniconda/base/envs/py310/lib/python3.10/site-packages/sklearn/svm/_classes.py:32: FutureWarning: The default value of `dual` will change from `True` to `'auto'` in 1.5. Set the value of `dual` explicitly to suppress the warning.\n",
      "  warnings.warn(\n",
      "/usr/local/Caskroom/miniconda/base/envs/py310/lib/python3.10/site-packages/sklearn/svm/_classes.py:32: FutureWarning: The default value of `dual` will change from `True` to `'auto'` in 1.5. Set the value of `dual` explicitly to suppress the warning.\n",
      "  warnings.warn(\n",
      "/usr/local/Caskroom/miniconda/base/envs/py310/lib/python3.10/site-packages/sklearn/svm/_classes.py:32: FutureWarning: The default value of `dual` will change from `True` to `'auto'` in 1.5. Set the value of `dual` explicitly to suppress the warning.\n",
      "  warnings.warn(\n",
      "/usr/local/Caskroom/miniconda/base/envs/py310/lib/python3.10/site-packages/sklearn/svm/_classes.py:32: FutureWarning: The default value of `dual` will change from `True` to `'auto'` in 1.5. Set the value of `dual` explicitly to suppress the warning.\n",
      "  warnings.warn(\n",
      "/usr/local/Caskroom/miniconda/base/envs/py310/lib/python3.10/site-packages/sklearn/svm/_classes.py:32: FutureWarning: The default value of `dual` will change from `True` to `'auto'` in 1.5. Set the value of `dual` explicitly to suppress the warning.\n",
      "  warnings.warn(\n"
     ]
    }
   ],
   "source": [
    "from sklearn.linear_model import Perceptron, LogisticRegression\n",
    "from sklearn.svm import LinearSVC,SVC\n",
    "from sklearn.neural_network import MLPClassifier\n",
    "from sklearn.model_selection import cross_val_score\n",
    "from sklearn.metrics import *\n",
    "\n",
    "scoring = ['accuracy','precision_macro', 'recall_macro','f1_macro']\n",
    "_cls = Perceptron(tol=1e-3,random_state=42, max_iter=5000, eta0=0.01)\n",
    "per = {}\n",
    "for item in scoring:\n",
    "    per[item.split(\"_\")[0]] = cross_val_score(_cls, x, y, cv=5, scoring=item)\n",
    "\n",
    "_cls = LogisticRegression(tol=1e-3,random_state=42, max_iter=5000)\n",
    "log = {}\n",
    "for item in scoring:\n",
    "    log[item.split(\"_\")[0]] = cross_val_score(_cls, x, y, cv=5, scoring=item)\n",
    "\n",
    "_cls = LinearSVC(tol=1e-3,random_state=42, max_iter=5000)\n",
    "lsvc = {}\n",
    "for item in scoring:\n",
    "    lsvc[item.split(\"_\")[0]] = cross_val_score(_cls, x, y, cv=5, scoring=item)\n",
    "\n",
    "_cls = SVC(tol=1e-3,random_state=42, max_iter=5000)\n",
    "svc = {}\n",
    "for item in scoring:\n",
    "    svc[item.split(\"_\")[0]] = cross_val_score(_cls, x, y, cv=5, scoring=item)\n",
    "\n",
    "_cls = MLPClassifier(hidden_layer_sizes=(32,64,32),tol=1e-3,random_state=42, max_iter=1000)\n",
    "mlp = {}\n",
    "for item in scoring:\n",
    "    mlp[item.split(\"_\")[0]] = cross_val_score(_cls, x, y, cv=5, scoring=item)"
   ]
  },
  {
   "cell_type": "code",
   "execution_count": 22,
   "metadata": {},
   "outputs": [
    {
     "name": "stdout",
     "output_type": "stream",
     "text": [
      "{'perceptron': {'accuracy': array([0.78571429, 0.73376623, 0.74025974, 0.78431373, 0.69281046]), 'precision': array([0.76489819, 0.72038567, 0.7464527 , 0.7647111 , 0.75621521]), 'recall': array([0.76259259, 0.66296296, 0.77018519, 0.78179245, 0.76056604]), 'f1': array([0.76370484, 0.67160764, 0.73580374, 0.7701343 , 0.69275796])}, 'logistic': {'accuracy': array([0.76623377, 0.74675325, 0.76623377, 0.79084967, 0.77777778]), 'precision': array([0.74772727, 0.72158766, 0.75635209, 0.77983449, 0.76653171]), 'recall': array([0.72203704, 0.71555556, 0.70925926, 0.74245283, 0.72358491]), 'f1': array([0.73061224, 0.7182266 , 0.72101449, 0.75431554, 0.73577814])}, 'linear_svm': {'accuracy': array([0.77272727, 0.75324675, 0.75974026, 0.79738562, 0.77777778]), 'precision': array([0.75965897, 0.72903846, 0.75378151, 0.78635779, 0.76653171]), 'recall': array([0.72277778, 0.72055556, 0.69574074, 0.75188679, 0.72358491]), 'f1': array([0.73362985, 0.72417044, 0.70765995, 0.76338239, 0.73577814])}, 'rbf_svm': {'accuracy': array([0.77272727, 0.74025974, 0.75324675, 0.82352941, 0.76470588]), 'precision': array([0.75686151, 0.7144261 , 0.74681373, 0.81917632, 0.7527959 ]), 'recall': array([0.72703704, 0.70203704, 0.68648148, 0.78075472, 0.70471698]), 'f1': array([0.73664924, 0.70683419, 0.69772727, 0.79391369, 0.71666667])}, 'mlp': {'accuracy': array([0.74025974, 0.76623377, 0.72727273, 0.80392157, 0.79084967]), 'precision': array([0.71590909, 0.74333333, 0.70394737, 0.79281184, 0.80075758]), 'recall': array([0.69351852, 0.74333333, 0.66648148, 0.76132075, 0.72471698]), 'f1': array([0.70068027, 0.74333333, 0.67451691, 0.77232143, 0.74122622])}}\n",
      "{'perceptron': {'accuracy': 0.7473728885493591, 'precision': 0.750532574856032, 'recall': 0.7476198462613557, 'f1': 0.7268016955157857}, 'logistic': {'accuracy': 0.7695696460402343, 'precision': 0.754406646541431, 'recall': 0.7225779175401816, 'f1': 0.7319894027068099}, 'linear_svm': {'accuracy': 0.7721755368814192, 'precision': 0.7590736885345046, 'recall': 0.7229091544374564, 'f1': 0.7329241521767937}, 'rbf_svm': {'accuracy': 0.7708938120702827, 'precision': 0.7580147114637071, 'recall': 0.7202054507337526, 'f1': 0.7303582127618155}, 'mlp': {'accuracy': 0.7657074951192598, 'precision': 0.751351841548904, 'recall': 0.717874213836478, 'f1': 0.7264156315741973}}\n"
     ]
    }
   ],
   "source": [
    "result = {\"perceptron\":per,\"logistic\":log,\"linear_svm\":lsvc,\"rbf_svm\":svc,\"mlp\":mlp}\n",
    "print(result)\n",
    "for k,v in result.items():\n",
    "    for sk,sv in v.items():\n",
    "        v[sk] = sv.mean()\n",
    "print(result)"
   ]
  },
  {
   "cell_type": "code",
   "execution_count": 23,
   "metadata": {},
   "outputs": [],
   "source": [
    "result_df = pd.DataFrame().from_dict(result).T\n"
   ]
  },
  {
   "cell_type": "code",
   "execution_count": 24,
   "metadata": {},
   "outputs": [],
   "source": [
    "result_df.to_csv(\"result.csv\")"
   ]
  },
  {
   "cell_type": "code",
   "execution_count": null,
   "metadata": {},
   "outputs": [],
   "source": [
    "df = pd.read_csv(\"result.csv\")\n",
    "df.to_latex(\"result.tex\")"
   ]
  }
 ],
 "metadata": {
  "kernelspec": {
   "display_name": "torch",
   "language": "python",
   "name": "python3"
  },
  "language_info": {
   "codemirror_mode": {
    "name": "ipython",
    "version": 3
   },
   "file_extension": ".py",
   "mimetype": "text/x-python",
   "name": "python",
   "nbconvert_exporter": "python",
   "pygments_lexer": "ipython3",
   "version": "3.10.12"
  },
  "orig_nbformat": 4
 },
 "nbformat": 4,
 "nbformat_minor": 2
}
