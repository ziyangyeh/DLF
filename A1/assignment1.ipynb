{
 "cells": [
  {
   "cell_type": "code",
   "execution_count": 1,
   "metadata": {},
   "outputs": [],
   "source": [
    "import os\n",
    "import pandas as pd\n",
    "import numpy as np\n",
    "from pathlib import Path\n",
    "from tqdm.notebook import tqdm\n",
    "from sklearn.metrics import accuracy_score\n",
    "\n",
    "\n",
    "CUR_DIR = Path(os.getcwd())\n",
    "CSV_PATH = CUR_DIR / Path(\"data/scaled.csv\")"
   ]
  },
  {
   "cell_type": "code",
   "execution_count": 2,
   "metadata": {},
   "outputs": [],
   "source": [
    "class CustomPerceptron():\n",
    "    def __init__(self, lr=0.001, epoch=1000, feature_num=None):\n",
    "        self.w = np.ones(feature_num) if feature_num else None\n",
    "        self.b = 0\n",
    "        self.l_rate = lr\n",
    "        self.epoch = epoch\n",
    "\n",
    "    def sign(self,y):\n",
    "        return -1 if y <= 0 else 1\n",
    "    \n",
    "    def fit(self,x_train,y_train):\n",
    "        if not self.w:\n",
    "            self.w = np.zeros(x_train.shape[1])\n",
    "        self.best_acc = -1\n",
    "        for _ in tqdm(range(self.epoch),total=self.epoch):\n",
    "            for i in range(len(x_train)):\n",
    "                xi = x_train[i,:]\n",
    "                yi = y_train[i]\n",
    "                yi_hat = self._predict(xi)\n",
    "                if yi * yi_hat != 1:\n",
    "                    self.w += self.l_rate * yi * xi\n",
    "                    self.b += self.l_rate * yi\n",
    "            y_pred = self.predict(x_train)\n",
    "            if self.best_acc < (tmp:=accuracy_score(y_train,y_pred)):\n",
    "                self.best_acc = tmp\n",
    "\n",
    "    def _calculate(self, x):\n",
    "        return np.dot(x, self.w)+self.b\n",
    "    \n",
    "    def _predict(self,x):\n",
    "        return -1 if self._calculate(x)<0 else 1\n",
    "    \n",
    "    def predict(self,x):\n",
    "        y_hat = x@self.w.T + self.b\n",
    "        y_hat = np.where(y_hat<0,-1,1)\n",
    "        return y_hat\n",
    "    \n",
    "    def get_params(self):\n",
    "        return {\"w\": self.w, \"b\": self.b}"
   ]
  },
  {
   "cell_type": "code",
   "execution_count": 3,
   "metadata": {},
   "outputs": [],
   "source": [
    "np.random.seed(42)\n",
    "dataset = pd.read_csv(CSV_PATH)\n",
    "x = dataset[dataset.columns.values[:-1]].values\n",
    "y = dataset[dataset.columns.values[-1]].values"
   ]
  },
  {
   "cell_type": "code",
   "execution_count": 4,
   "metadata": {},
   "outputs": [
    {
     "data": {
      "application/vnd.jupyter.widget-view+json": {
       "model_id": "75d0b1ba061f4a378a1654401d31fb73",
       "version_major": 2,
       "version_minor": 0
      },
      "text/plain": [
       "  0%|          | 0/10000 [00:00<?, ?it/s]"
      ]
     },
     "metadata": {},
     "output_type": "display_data"
    }
   ],
   "source": [
    "model = CustomPerceptron(epoch=10000)\n",
    "model.fit(x,y)"
   ]
  },
  {
   "cell_type": "code",
   "execution_count": 5,
   "metadata": {},
   "outputs": [
    {
     "name": "stdout",
     "output_type": "stream",
     "text": [
      "{'w': array([-1.25000000e-03,  5.85806452e-03, -1.28571429e-03, -1.23913043e-03,\n",
      "       -1.20432692e-03,  3.55828221e-03,  5.97779676e-06,  1.70000000e-03]), 'b': 0.002}\n",
      "0.78125\n"
     ]
    },
    {
     "data": {
      "text/plain": [
       "0.5455729166666666"
      ]
     },
     "execution_count": 5,
     "metadata": {},
     "output_type": "execute_result"
    }
   ],
   "source": [
    "print(model.get_params())\n",
    "y_pred = model.predict(x)\n",
    "print(model.best_acc)\n",
    "accuracy_score(y,y_pred)"
   ]
  },
  {
   "cell_type": "code",
   "execution_count": 6,
   "metadata": {},
   "outputs": [
    {
     "name": "stdout",
     "output_type": "stream",
     "text": [
      "[[ 0.0015      0.00446452 -0.00104082 -0.00069565 -0.00254087  0.00329652\n",
      "   0.00289325  0.00026667]]\n"
     ]
    },
    {
     "data": {
      "text/plain": [
       "0.76953125"
      ]
     },
     "execution_count": 6,
     "metadata": {},
     "output_type": "execute_result"
    }
   ],
   "source": [
    "from sklearn.linear_model import Perceptron\n",
    "\n",
    "sk_perceptron = Perceptron(tol=1e-1,random_state=42, max_iter=10000, eta0=0.001)\n",
    "sk_perceptron.fit(x,y)\n",
    "print(sk_perceptron.coef_)\n",
    "sk_perceptron.score(x,y)\n",
    "y_pred = sk_perceptron.predict(x)\n",
    "accuracy_score(y,y_pred)"
   ]
  }
 ],
 "metadata": {
  "kernelspec": {
   "display_name": "torch",
   "language": "python",
   "name": "python3"
  },
  "language_info": {
   "codemirror_mode": {
    "name": "ipython",
    "version": 3
   },
   "file_extension": ".py",
   "mimetype": "text/x-python",
   "name": "python",
   "nbconvert_exporter": "python",
   "pygments_lexer": "ipython3",
   "version": "3.10.13"
  },
  "orig_nbformat": 4
 },
 "nbformat": 4,
 "nbformat_minor": 2
}
